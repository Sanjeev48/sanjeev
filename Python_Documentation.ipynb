{
 "cells": [
  {
   "cell_type": "code",
   "execution_count": 1,
   "metadata": {},
   "outputs": [],
   "source": [
    "#comments: the information for future reference purposes\n",
    "#won't get executed\n",
    "# This # symbol can hold a single of comment"
   ]
  },
  {
   "cell_type": "code",
   "execution_count": 2,
   "metadata": {},
   "outputs": [
    {
     "name": "stdout",
     "output_type": "stream",
     "text": [
      "79\n"
     ]
    }
   ],
   "source": [
    "#T-C-RNTI\n",
    "RNTI = 79\n",
    "#printing T-C-RNTI\n",
    "print RNTI"
   ]
  },
  {
   "cell_type": "code",
   "execution_count": 3,
   "metadata": {},
   "outputs": [
    {
     "name": "stdout",
     "output_type": "stream",
     "text": [
      "79\n"
     ]
    }
   ],
   "source": [
    "RNTI = 79 #T-C-RNTI\n",
    "print RNTI #printing T-C-RNTI"
   ]
  },
  {
   "cell_type": "code",
   "execution_count": 4,
   "metadata": {},
   "outputs": [
    {
     "name": "stdout",
     "output_type": "stream",
     "text": [
      "79\n"
     ]
    }
   ],
   "source": [
    "'''\n",
    "The below code is going to \n",
    "1. defie an T-C-RNTI\n",
    "2. print the T-C-RNTI\n",
    "'''\n",
    "RNTI = 79\n",
    "print RNTI"
   ]
  },
  {
   "cell_type": "code",
   "execution_count": 5,
   "metadata": {},
   "outputs": [
    {
     "name": "stdout",
     "output_type": "stream",
     "text": [
      "79\n"
     ]
    }
   ],
   "source": [
    "\"\"\"\n",
    "The below code is going to \n",
    "1. defie an T-C-RNTI\n",
    "2. print the T-C-RNTI\n",
    "\"\"\"\n",
    "RNTI = 79\n",
    "print RNTI"
   ]
  },
  {
   "cell_type": "code",
   "execution_count": 6,
   "metadata": {},
   "outputs": [],
   "source": [
    "#Docstring - documentation string"
   ]
  },
  {
   "cell_type": "code",
   "execution_count": 7,
   "metadata": {},
   "outputs": [],
   "source": [
    "a = 10"
   ]
  },
  {
   "cell_type": "code",
   "execution_count": 8,
   "metadata": {},
   "outputs": [
    {
     "name": "stdout",
     "output_type": "stream",
     "text": [
      "Help on built-in function bit_length:\n",
      "\n",
      "bit_length(...)\n",
      "    int.bit_length() -> int\n",
      "    \n",
      "    Number of bits necessary to represent self in binary.\n",
      "    >>> bin(37)\n",
      "    '0b100101'\n",
      "    >>> (37).bit_length()\n",
      "    6\n",
      "\n",
      "None\n"
     ]
    }
   ],
   "source": [
    "print help(a.bit_length)"
   ]
  },
  {
   "cell_type": "code",
   "execution_count": 9,
   "metadata": {},
   "outputs": [],
   "source": [
    "def mysquare(x):\n",
    "    return x*x"
   ]
  },
  {
   "cell_type": "code",
   "execution_count": 10,
   "metadata": {},
   "outputs": [
    {
     "name": "stdout",
     "output_type": "stream",
     "text": [
      "25\n"
     ]
    }
   ],
   "source": [
    "print mysquare(5)"
   ]
  },
  {
   "cell_type": "code",
   "execution_count": 11,
   "metadata": {},
   "outputs": [
    {
     "name": "stdout",
     "output_type": "stream",
     "text": [
      "Help on function mysquare in module __main__:\n",
      "\n",
      "mysquare(x)\n",
      "\n",
      "None\n"
     ]
    }
   ],
   "source": [
    "print help(mysquare)"
   ]
  },
  {
   "cell_type": "code",
   "execution_count": 12,
   "metadata": {},
   "outputs": [],
   "source": [
    "def mysquare(x):\n",
    "    '''\n",
    "    This function returns square of a number\n",
    "    >>> For example mysquare(2) would return 4\n",
    "    '''\n",
    "    return x*x"
   ]
  },
  {
   "cell_type": "code",
   "execution_count": 13,
   "metadata": {},
   "outputs": [
    {
     "name": "stdout",
     "output_type": "stream",
     "text": [
      "25\n"
     ]
    }
   ],
   "source": [
    "print mysquare(5)"
   ]
  },
  {
   "cell_type": "code",
   "execution_count": 14,
   "metadata": {},
   "outputs": [
    {
     "name": "stdout",
     "output_type": "stream",
     "text": [
      "Help on function mysquare in module __main__:\n",
      "\n",
      "mysquare(x)\n",
      "    This function returns square of a number\n",
      "    >>> For example mysquare(2) would return 4\n",
      "\n",
      "None\n"
     ]
    }
   ],
   "source": [
    "print help(mysquare)"
   ]
  },
  {
   "cell_type": "code",
   "execution_count": 15,
   "metadata": {},
   "outputs": [],
   "source": [
    "def mysquare(x):\n",
    "    '''\n",
    "    This function returns square of a number\n",
    "    >>> For example mysquare(2) would return 4\n",
    "    '''\n",
    "    '''\n",
    "    This directly returns the calulated value. This becomes a multi-line comment\n",
    "    '''\n",
    "    return x*x"
   ]
  },
  {
   "cell_type": "code",
   "execution_count": 16,
   "metadata": {},
   "outputs": [
    {
     "name": "stdout",
     "output_type": "stream",
     "text": [
      "Help on function mysquare in module __main__:\n",
      "\n",
      "mysquare(x)\n",
      "    This function returns square of a number\n",
      "    >>> For example mysquare(2) would return 4\n",
      "\n",
      "None\n"
     ]
    }
   ],
   "source": [
    "print help(mysquare)"
   ]
  },
  {
   "cell_type": "code",
   "execution_count": 17,
   "metadata": {},
   "outputs": [],
   "source": [
    "#Two types of Functions in python 1)Pre-defined 2)user-defined"
   ]
  }
 ],
 "metadata": {
  "kernelspec": {
   "display_name": "Python 2",
   "language": "python",
   "name": "python2"
  },
  "language_info": {
   "codemirror_mode": {
    "name": "ipython",
    "version": 2
   },
   "file_extension": ".py",
   "mimetype": "text/x-python",
   "name": "python",
   "nbconvert_exporter": "python",
   "pygments_lexer": "ipython2",
   "version": "2.7.17"
  }
 },
 "nbformat": 4,
 "nbformat_minor": 2
}
