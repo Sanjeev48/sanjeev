{
 "cells": [
  {
   "cell_type": "code",
   "execution_count": 1,
   "metadata": {},
   "outputs": [
    {
     "name": "stdout",
     "output_type": "stream",
     "text": [
      "345\n",
      "345\n"
     ]
    }
   ],
   "source": [
    "Parameter1 = input()  #input mechanism\n",
    "print Parameter1      #output mechanism"
   ]
  },
  {
   "cell_type": "code",
   "execution_count": 2,
   "metadata": {},
   "outputs": [
    {
     "name": "stdout",
     "output_type": "stream",
     "text": [
      "Please enter your Age:25\n",
      "25\n"
     ]
    }
   ],
   "source": [
    "Parameter2 = input(\"Please enter your Age:\")  #input mechanism\n",
    "print Parameter2      #output mechanism"
   ]
  },
  {
   "cell_type": "code",
   "execution_count": 3,
   "metadata": {},
   "outputs": [
    {
     "name": "stdout",
     "output_type": "stream",
     "text": [
      "Please enter your Age:35\n",
      "The Age that you have entered is: 35\n"
     ]
    }
   ],
   "source": [
    "Parameter3 = input(\"Please enter your Age:\")  #input mechanism\n",
    "print \"The Age that you have entered is:\", Parameter3      #output mechanism"
   ]
  },
  {
   "cell_type": "code",
   "execution_count": 4,
   "metadata": {},
   "outputs": [
    {
     "name": "stdout",
     "output_type": "stream",
     "text": [
      "Please enter something you wish to enter:10\n",
      "Please enter something you wish to enter:10.72\n",
      "Please enter something you wish to enter:True\n",
      "Please enter something you wish to enter:'tcloud'\n",
      "Please enter something you wish to enter:\"tcloud it\"\n",
      "Please enter something you wish to enter:3+4j\n",
      "10 <type 'int'>\n",
      "10.72 <type 'float'>\n",
      "True <type 'bool'>\n",
      "tcloud <type 'str'>\n",
      "tcloud it <type 'str'>\n",
      "(3+4j) <type 'complex'>\n"
     ]
    }
   ],
   "source": [
    "A1 = input(\"Please enter something you wish to enter:\")\n",
    "A2 = input(\"Please enter something you wish to enter:\")\n",
    "A3 = input(\"Please enter something you wish to enter:\")\n",
    "A4 = input(\"Please enter something you wish to enter:\")\n",
    "A5 = input(\"Please enter something you wish to enter:\")\n",
    "A6 = input(\"Please enter something you wish to enter:\")\n",
    "\n",
    "print A1, type(A1)\n",
    "print A2, type(A2)\n",
    "print A3, type(A3)\n",
    "print A4, type(A4)\n",
    "print A5, type(A5)\n",
    "print A6, type(A6)"
   ]
  },
  {
   "cell_type": "code",
   "execution_count": null,
   "metadata": {},
   "outputs": [],
   "source": [
    "#input function identifies the data type "
   ]
  },
  {
   "cell_type": "code",
   "execution_count": 5,
   "metadata": {},
   "outputs": [
    {
     "name": "stdout",
     "output_type": "stream",
     "text": [
      "Please enter something you wish to enter:10\n",
      "Please enter something you wish to enter:10.72\n",
      "Please enter something you wish to enter:True\n",
      "Please enter something you wish to enter:'tcloud'\n",
      "Please enter something you wish to enter:\"tcloud it\"\n",
      "Please enter something you wish to enter:3+4j\n",
      "10 <type 'str'>\n",
      "10.72 <type 'str'>\n",
      "True <type 'str'>\n",
      "'tcloud' <type 'str'>\n",
      "\"tcloud it\" <type 'str'>\n",
      "3+4j <type 'str'>\n"
     ]
    }
   ],
   "source": [
    "A1 = raw_input(\"Please enter something you wish to enter:\")\n",
    "A2 = raw_input(\"Please enter something you wish to enter:\")\n",
    "A3 = raw_input(\"Please enter something you wish to enter:\")\n",
    "A4 = raw_input(\"Please enter something you wish to enter:\")\n",
    "A5 = raw_input(\"Please enter something you wish to enter:\")\n",
    "A6 = raw_input(\"Please enter something you wish to enter:\")\n",
    "\n",
    "print A1, type(A1)\n",
    "print A2, type(A2)\n",
    "print A3, type(A3)\n",
    "print A4, type(A4)\n",
    "print A5, type(A5)\n",
    "print A6, type(A6)"
   ]
  },
  {
   "cell_type": "code",
   "execution_count": 6,
   "metadata": {},
   "outputs": [],
   "source": [
    "#raw_input reads everything as a string-it automatically appends quotes"
   ]
  },
  {
   "cell_type": "code",
   "execution_count": 7,
   "metadata": {},
   "outputs": [
    {
     "name": "stdout",
     "output_type": "stream",
     "text": [
      "10 10 10\n"
     ]
    }
   ],
   "source": [
    "x = 10\n",
    "y = '10'\n",
    "z = \"10\"\n",
    "\n",
    "print x, y, z"
   ]
  },
  {
   "cell_type": "code",
   "execution_count": 8,
   "metadata": {},
   "outputs": [
    {
     "name": "stdout",
     "output_type": "stream",
     "text": [
      "<type 'int'> <type 'str'> <type 'str'>\n"
     ]
    }
   ],
   "source": [
    "print type(x), type(y), type(z)"
   ]
  },
  {
   "cell_type": "code",
   "execution_count": 9,
   "metadata": {},
   "outputs": [
    {
     "name": "stdout",
     "output_type": "stream",
     "text": [
      "10 <type 'int'>\n"
     ]
    }
   ],
   "source": [
    "w = int(y)\n",
    "print w, type(w)"
   ]
  },
  {
   "cell_type": "code",
   "execution_count": 10,
   "metadata": {},
   "outputs": [
    {
     "ename": "ValueError",
     "evalue": "invalid literal for int() with base 10: 'tcloud'",
     "output_type": "error",
     "traceback": [
      "\u001b[0;31m---------------------------------------------------------------------------\u001b[0m",
      "\u001b[0;31mValueError\u001b[0m                                Traceback (most recent call last)",
      "\u001b[0;32m<ipython-input-10-43a9bf7a7fb5>\u001b[0m in \u001b[0;36m<module>\u001b[0;34m()\u001b[0m\n\u001b[1;32m      1\u001b[0m \u001b[0mv\u001b[0m \u001b[0;34m=\u001b[0m \u001b[0;34m\"tcloud\"\u001b[0m\u001b[0;34m\u001b[0m\u001b[0m\n\u001b[0;32m----> 2\u001b[0;31m \u001b[0mu\u001b[0m \u001b[0;34m=\u001b[0m \u001b[0mint\u001b[0m\u001b[0;34m(\u001b[0m\u001b[0mv\u001b[0m\u001b[0;34m)\u001b[0m\u001b[0;34m\u001b[0m\u001b[0m\n\u001b[0m\u001b[1;32m      3\u001b[0m \u001b[0;32mprint\u001b[0m \u001b[0mu\u001b[0m\u001b[0;34m,\u001b[0m \u001b[0mtype\u001b[0m\u001b[0;34m(\u001b[0m\u001b[0mu\u001b[0m\u001b[0;34m)\u001b[0m\u001b[0;34m\u001b[0m\u001b[0m\n",
      "\u001b[0;31mValueError\u001b[0m: invalid literal for int() with base 10: 'tcloud'"
     ]
    }
   ],
   "source": [
    "v = \"tcloud\"\n",
    "u = int(v)\n",
    "print u, type(u)"
   ]
  },
  {
   "cell_type": "code",
   "execution_count": 11,
   "metadata": {},
   "outputs": [
    {
     "name": "stdout",
     "output_type": "stream",
     "text": [
      "10\n"
     ]
    }
   ],
   "source": [
    "print int('10')"
   ]
  },
  {
   "cell_type": "code",
   "execution_count": 12,
   "metadata": {},
   "outputs": [
    {
     "name": "stdout",
     "output_type": "stream",
     "text": [
      "Please enter something you wish to enter:10\n",
      "Please enter something you wish to enter:10.72\n",
      "Please enter something you wish to enter:True\n",
      "Please enter something you wish to enter:'tcloud'\n",
      "Please enter something you wish to enter:\"tcloud it\"\n",
      "Please enter something you wish to enter:3+4j\n",
      "10 <type 'int'>\n",
      "10.72 <type 'float'>\n",
      "True <type 'bool'>\n",
      "'tcloud' <type 'str'>\n",
      "\"tcloud it\" <type 'str'>\n",
      "(3+4j) <type 'complex'>\n"
     ]
    }
   ],
   "source": [
    "A1 = int(raw_input(\"Please enter something you wish to enter:\"))\n",
    "A2 = float(raw_input(\"Please enter something you wish to enter:\"))\n",
    "A3 = bool(raw_input(\"Please enter something you wish to enter:\"))\n",
    "A4 = raw_input(\"Please enter something you wish to enter:\")\n",
    "A5 = str(raw_input(\"Please enter something you wish to enter:\"))\n",
    "A6 = complex(raw_input(\"Please enter something you wish to enter:\"))\n",
    "\n",
    "print A1, type(A1)\n",
    "print A2, type(A2)\n",
    "print A3, type(A3)\n",
    "print A4, type(A4)\n",
    "print A5, type(A5)\n",
    "print A6, type(A6)"
   ]
  },
  {
   "cell_type": "code",
   "execution_count": 13,
   "metadata": {},
   "outputs": [],
   "source": [
    "#this mechanism is called type conversion or typecasting"
   ]
  },
  {
   "cell_type": "code",
   "execution_count": 14,
   "metadata": {},
   "outputs": [],
   "source": [
    "#input = typecast(raw_input)"
   ]
  },
  {
   "cell_type": "code",
   "execution_count": 15,
   "metadata": {},
   "outputs": [
    {
     "name": "stdout",
     "output_type": "stream",
     "text": [
      "(3+0j)\n"
     ]
    }
   ],
   "source": [
    "print complex(3)"
   ]
  },
  {
   "cell_type": "code",
   "execution_count": 16,
   "metadata": {},
   "outputs": [
    {
     "name": "stdout",
     "output_type": "stream",
     "text": [
      "(3.43+0j)\n"
     ]
    }
   ],
   "source": [
    "print complex(3.43)"
   ]
  },
  {
   "cell_type": "code",
   "execution_count": 17,
   "metadata": {},
   "outputs": [],
   "source": [
    "#output Mechanisms"
   ]
  },
  {
   "cell_type": "code",
   "execution_count": 18,
   "metadata": {},
   "outputs": [
    {
     "name": "stdout",
     "output_type": "stream",
     "text": [
      "10 20\n"
     ]
    }
   ],
   "source": [
    "k = 10\n",
    "l = 20\n",
    "\n",
    "print k,l"
   ]
  },
  {
   "cell_type": "code",
   "execution_count": 19,
   "metadata": {},
   "outputs": [
    {
     "name": "stdout",
     "output_type": "stream",
     "text": [
      "The values of k,l respectively are: 10 20\n"
     ]
    }
   ],
   "source": [
    "k = 10\n",
    "l = 20\n",
    "\n",
    "print \"The values of k,l respectively are:\", k,l"
   ]
  },
  {
   "cell_type": "code",
   "execution_count": 22,
   "metadata": {},
   "outputs": [
    {
     "name": "stdout",
     "output_type": "stream",
     "text": [
      "The value of k is: 10 The Value of l is: 20\n"
     ]
    }
   ],
   "source": [
    "k = 10\n",
    "l = 20\n",
    "\n",
    "print \"The value of k is:\", k, \"The Value of l is:\", l"
   ]
  },
  {
   "cell_type": "code",
   "execution_count": 23,
   "metadata": {},
   "outputs": [
    {
     "name": "stdout",
     "output_type": "stream",
     "text": [
      "The value of k is:k The Value of l is:l\n"
     ]
    }
   ],
   "source": [
    "k = 10\n",
    "l = 20\n",
    "\n",
    "print \"The value of k is:k The Value of l is:l\""
   ]
  },
  {
   "cell_type": "code",
   "execution_count": 24,
   "metadata": {},
   "outputs": [
    {
     "name": "stdout",
     "output_type": "stream",
     "text": [
      "The value of k is:10 The Value of l is:20\n"
     ]
    }
   ],
   "source": [
    "k = 10\n",
    "l = 20\n",
    "\n",
    "print \"The value of k is:%s The Value of l is:%s\"%(k,l)"
   ]
  },
  {
   "cell_type": "code",
   "execution_count": 25,
   "metadata": {},
   "outputs": [
    {
     "name": "stdout",
     "output_type": "stream",
     "text": [
      "The value of k is:10 The Value of l is:20\n"
     ]
    }
   ],
   "source": [
    "k = 10\n",
    "l = 20\n",
    "\n",
    "print \"The value of k is:{} The Value of l is:{}\".format(k,l)"
   ]
  },
  {
   "cell_type": "code",
   "execution_count": 26,
   "metadata": {},
   "outputs": [
    {
     "name": "stdout",
     "output_type": "stream",
     "text": [
      "This is a string for modification by tcloud\n"
     ]
    }
   ],
   "source": [
    "a = \"This is a string for modification by %s\"\n",
    "b = \"tcloud\"\n",
    "\n",
    "print a%b"
   ]
  },
  {
   "cell_type": "code",
   "execution_count": 27,
   "metadata": {},
   "outputs": [
    {
     "ename": "TypeError",
     "evalue": "not enough arguments for format string",
     "output_type": "error",
     "traceback": [
      "\u001b[0;31m---------------------------------------------------------------------------\u001b[0m",
      "\u001b[0;31mTypeError\u001b[0m                                 Traceback (most recent call last)",
      "\u001b[0;32m<ipython-input-27-10c164fcee4d>\u001b[0m in \u001b[0;36m<module>\u001b[0;34m()\u001b[0m\n\u001b[1;32m      2\u001b[0m \u001b[0mb\u001b[0m \u001b[0;34m=\u001b[0m \u001b[0;34m\"tcloud\"\u001b[0m\u001b[0;34m\u001b[0m\u001b[0m\n\u001b[1;32m      3\u001b[0m \u001b[0;34m\u001b[0m\u001b[0m\n\u001b[0;32m----> 4\u001b[0;31m \u001b[0;32mprint\u001b[0m \u001b[0ma\u001b[0m\u001b[0;34m%\u001b[0m\u001b[0mb\u001b[0m\u001b[0;34m\u001b[0m\u001b[0m\n\u001b[0m",
      "\u001b[0;31mTypeError\u001b[0m: not enough arguments for format string"
     ]
    }
   ],
   "source": [
    "a = \"This is a string for modification by %s but two times %s\"\n",
    "b = \"tcloud\"\n",
    "\n",
    "print a%b"
   ]
  },
  {
   "cell_type": "code",
   "execution_count": 28,
   "metadata": {},
   "outputs": [
    {
     "name": "stdout",
     "output_type": "stream",
     "text": [
      "This is a string for modification by tcloud but two times tcloud\n"
     ]
    }
   ],
   "source": [
    "a = \"This is a string for modification by %s but two times %s\"\n",
    "b = \"tcloud\"\n",
    "\n",
    "print a%(b,b)"
   ]
  },
  {
   "cell_type": "code",
   "execution_count": 29,
   "metadata": {},
   "outputs": [
    {
     "ename": "TypeError",
     "evalue": "float argument required, not str",
     "output_type": "error",
     "traceback": [
      "\u001b[0;31m---------------------------------------------------------------------------\u001b[0m",
      "\u001b[0;31mTypeError\u001b[0m                                 Traceback (most recent call last)",
      "\u001b[0;32m<ipython-input-29-57af1aa088aa>\u001b[0m in \u001b[0;36m<module>\u001b[0;34m()\u001b[0m\n\u001b[1;32m      2\u001b[0m \u001b[0md\u001b[0m \u001b[0;34m=\u001b[0m \u001b[0;34m\"tcloud\"\u001b[0m\u001b[0;34m\u001b[0m\u001b[0m\n\u001b[1;32m      3\u001b[0m \u001b[0;34m\u001b[0m\u001b[0m\n\u001b[0;32m----> 4\u001b[0;31m \u001b[0;32mprint\u001b[0m \u001b[0mc\u001b[0m\u001b[0;34m%\u001b[0m\u001b[0md\u001b[0m\u001b[0;34m\u001b[0m\u001b[0m\n\u001b[0m",
      "\u001b[0;31mTypeError\u001b[0m: float argument required, not str"
     ]
    }
   ],
   "source": [
    "c = \"this is %e datatype\"\n",
    "d = \"tcloud\"\n",
    "\n",
    "print c%d"
   ]
  },
  {
   "cell_type": "code",
   "execution_count": 30,
   "metadata": {},
   "outputs": [
    {
     "name": "stdout",
     "output_type": "stream",
     "text": [
      "This is a string for modification by 10 but two times 10\n"
     ]
    }
   ],
   "source": [
    "a = \"This is a string for modification by %s but two times %s\"\n",
    "b = 10\n",
    "\n",
    "print a%(b,b)"
   ]
  },
  {
   "cell_type": "code",
   "execution_count": 31,
   "metadata": {},
   "outputs": [
    {
     "name": "stdout",
     "output_type": "stream",
     "text": [
      "this is 1.072000e+01 datatype\n"
     ]
    }
   ],
   "source": [
    "c = \"this is %e datatype\"\n",
    "d = 10.72\n",
    "\n",
    "print c%d"
   ]
  },
  {
   "cell_type": "code",
   "execution_count": 32,
   "metadata": {},
   "outputs": [
    {
     "name": "stdout",
     "output_type": "stream",
     "text": [
      "this is 1.000000e+01 datatype\n"
     ]
    }
   ],
   "source": [
    "c = \"this is %e datatype\"\n",
    "d = 10\n",
    "\n",
    "print c%d"
   ]
  },
  {
   "cell_type": "code",
   "execution_count": 33,
   "metadata": {},
   "outputs": [
    {
     "name": "stdout",
     "output_type": "stream",
     "text": [
      "This is a string. this is another string\n"
     ]
    }
   ],
   "source": [
    "g = \"This is a {}. this is another {}\"\n",
    "h = \"string\"\n",
    "\n",
    "print g.format(h,h)"
   ]
  },
  {
   "cell_type": "code",
   "execution_count": 34,
   "metadata": {},
   "outputs": [
    {
     "ename": "IndexError",
     "evalue": "tuple index out of range",
     "output_type": "error",
     "traceback": [
      "\u001b[0;31m---------------------------------------------------------------------------\u001b[0m",
      "\u001b[0;31mIndexError\u001b[0m                                Traceback (most recent call last)",
      "\u001b[0;32m<ipython-input-34-6ecc12d63b54>\u001b[0m in \u001b[0;36m<module>\u001b[0;34m()\u001b[0m\n\u001b[1;32m      2\u001b[0m \u001b[0mh\u001b[0m \u001b[0;34m=\u001b[0m \u001b[0;34m\"string\"\u001b[0m\u001b[0;34m\u001b[0m\u001b[0m\n\u001b[1;32m      3\u001b[0m \u001b[0;34m\u001b[0m\u001b[0m\n\u001b[0;32m----> 4\u001b[0;31m \u001b[0;32mprint\u001b[0m \u001b[0mg\u001b[0m\u001b[0;34m.\u001b[0m\u001b[0mformat\u001b[0m\u001b[0;34m(\u001b[0m\u001b[0mh\u001b[0m\u001b[0;34m)\u001b[0m\u001b[0;34m\u001b[0m\u001b[0m\n\u001b[0m",
      "\u001b[0;31mIndexError\u001b[0m: tuple index out of range"
     ]
    }
   ],
   "source": [
    "g = \"This is a {}. this is another {}\"\n",
    "h = \"string\"\n",
    "\n",
    "print g.format(h)"
   ]
  },
  {
   "cell_type": "code",
   "execution_count": 35,
   "metadata": {},
   "outputs": [
    {
     "name": "stdout",
     "output_type": "stream",
     "text": [
      "This is a string. this is another string\n"
     ]
    }
   ],
   "source": [
    "g = \"This is a {0}. this is another {0}\"\n",
    "h = \"string\"\n",
    "\n",
    "print g.format(h)"
   ]
  },
  {
   "cell_type": "code",
   "execution_count": 36,
   "metadata": {},
   "outputs": [
    {
     "name": "stdout",
     "output_type": "stream",
     "text": [
      "This is a string. this is another string. but this is done by tcloud\n"
     ]
    }
   ],
   "source": [
    "g = \"This is a {0}. this is another {0}. but this is done by {1}\"\n",
    "h = \"string\"\n",
    "i = \"tcloud\"\n",
    "\n",
    "print g.format(h,i)"
   ]
  },
  {
   "cell_type": "code",
   "execution_count": 37,
   "metadata": {},
   "outputs": [
    {
     "name": "stdout",
     "output_type": "stream",
     "text": [
      "m value is 10\n",
      "the value of n is 20. this value is used for something\n"
     ]
    }
   ],
   "source": [
    "m=10\n",
    "n=20\n",
    "\n",
    "print \"m value is {}\".format(m)\n",
    "print \"the value of n is {}. this value is used for something\".format(n)"
   ]
  }
 ],
 "metadata": {
  "kernelspec": {
   "display_name": "Python 2",
   "language": "python",
   "name": "python2"
  },
  "language_info": {
   "codemirror_mode": {
    "name": "ipython",
    "version": 2
   },
   "file_extension": ".py",
   "mimetype": "text/x-python",
   "name": "python",
   "nbconvert_exporter": "python",
   "pygments_lexer": "ipython2",
   "version": "2.7.17"
  }
 },
 "nbformat": 4,
 "nbformat_minor": 2
}
