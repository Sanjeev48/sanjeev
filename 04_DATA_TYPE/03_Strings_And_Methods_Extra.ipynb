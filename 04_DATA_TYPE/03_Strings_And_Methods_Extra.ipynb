{
 "cells": [
  {
   "cell_type": "markdown",
   "metadata": {},
   "source": [
    "# <font color =#008080, align = center>**TCLOUD INFORMATION TECHNOLOGIES PVT LTD**</font> \n",
    "> PYTHON LANGUAGE NOTES: (C)2018-19: TCLOUD IT PVT LTD <br>\n",
    "> URL: www.tcloudtech.com, PHONE: +919666921555 <br>"
   ]
  },
  {
   "cell_type": "code",
   "execution_count": 1,
   "metadata": {},
   "outputs": [
    {
     "name": "stdout",
     "output_type": "stream",
     "text": [
      "Tcloud IT <type 'str'>\n",
      "TCLOUD123 <type 'str'>\n",
      "Tcloud!@#$%^&*()-_+=`~:;<,>.?/|[]{} <type 'str'>\n",
      " <type 'str'>\n",
      " <type 'str'>\n"
     ]
    }
   ],
   "source": [
    "#Strings:Sequence of Character Data(Characters+ Special Characters + Numbers) with some exceptions\n",
    "#Represented in between two \"\"(double quotes) [or] two ''(single quotes)\n",
    "\n",
    "print \"Tcloud IT\", type(\"Tcloud IT\")\n",
    "print \"TCLOUD123\", type(\"TCLOUD123\")\n",
    "print 'Tcloud!@#$%^&*()-_+=`~:;<,>.?/|[]{}', type('Tcloud!@#$%^&*()-_+=`~:;<,>.?/|[]{}')\n",
    "print '', type('')\n",
    "print \"\", type(\"\")"
   ]
  },
  {
   "cell_type": "code",
   "execution_count": 3,
   "metadata": {},
   "outputs": [
    {
     "name": "stdout",
     "output_type": "stream",
     "text": [
      "I Want to Print TCLOUD with single quotes 'TCLOUD' like this\n",
      "I Want to Print TCLOUD with Double quotes \"TCLOUD\" like this\n"
     ]
    }
   ],
   "source": [
    "# Whenever a string should contain a single quote or double quote use the opposite!\n",
    "\n",
    "print \"I Want to Print TCLOUD with single quotes 'TCLOUD' like this\"\n",
    "print 'I Want to Print TCLOUD with Double quotes \"TCLOUD\" like this'"
   ]
  },
  {
   "cell_type": "code",
   "execution_count": 4,
   "metadata": {},
   "outputs": [
    {
     "ename": "SyntaxError",
     "evalue": "invalid syntax (<ipython-input-4-08ca6abf468e>, line 1)",
     "output_type": "error",
     "traceback": [
      "\u001b[0;36m  File \u001b[0;32m\"<ipython-input-4-08ca6abf468e>\"\u001b[0;36m, line \u001b[0;32m1\u001b[0m\n\u001b[0;31m    print \"I Want to Print TCLOUD with single quotes \"TCLOUD\" like this\"\u001b[0m\n\u001b[0m                                                           ^\u001b[0m\n\u001b[0;31mSyntaxError\u001b[0m\u001b[0;31m:\u001b[0m invalid syntax\n"
     ]
    }
   ],
   "source": [
    "print \"I Want to Print TCLOUD with single quotes \"TCLOUD\" like this\"\n",
    "\n",
    "# this Will Fail as Double in Double won't work!!"
   ]
  },
  {
   "cell_type": "code",
   "execution_count": 5,
   "metadata": {},
   "outputs": [
    {
     "ename": "SyntaxError",
     "evalue": "invalid syntax (<ipython-input-5-e2997336d350>, line 1)",
     "output_type": "error",
     "traceback": [
      "\u001b[0;36m  File \u001b[0;32m\"<ipython-input-5-e2997336d350>\"\u001b[0;36m, line \u001b[0;32m1\u001b[0m\n\u001b[0;31m    print 'I Want to Print TCLOUD with single quotes 'TCLOUD' like this'\u001b[0m\n\u001b[0m                                                           ^\u001b[0m\n\u001b[0;31mSyntaxError\u001b[0m\u001b[0;31m:\u001b[0m invalid syntax\n"
     ]
    }
   ],
   "source": [
    "print 'I Want to Print TCLOUD with single quotes 'TCLOUD' like this'\n",
    "\n",
    "# this Will Fail as Single in Single won't work!!"
   ]
  },
  {
   "cell_type": "code",
   "execution_count": 7,
   "metadata": {},
   "outputs": [
    {
     "name": "stdout",
     "output_type": "stream",
     "text": [
      "TCLOUD () IT <type 'str'>\n",
      "TCLOUD IT <type 'str'>\n",
      " <type 'str'>\n"
     ]
    }
   ],
   "source": [
    "print \"TCLOUD () IT\", type(\"TCLOUD () IT\")\n",
    "print (\"TCLOUD IT\"), type(\"TCLOUD IT\")\n",
    "print (\"\"), type(\"\")"
   ]
  },
  {
   "cell_type": "code",
   "execution_count": 1,
   "metadata": {},
   "outputs": [
    {
     "name": "stdout",
     "output_type": "stream",
     "text": [
      "tcloud\n",
      "<type 'str'>\n"
     ]
    }
   ],
   "source": [
    "a = \"tcloud\"\n",
    "\n",
    "print a\n",
    "print type(a)"
   ]
  },
  {
   "cell_type": "code",
   "execution_count": 2,
   "metadata": {},
   "outputs": [
    {
     "name": "stdout",
     "output_type": "stream",
     "text": [
      "<type 'str'>\n",
      "c\n",
      "u\n",
      "d\n",
      "l\n",
      "t\n",
      "o\n",
      "o\n"
     ]
    }
   ],
   "source": [
    "a = \"tcloud\"     # +ve Index ==> [0=t, 1=c, 2=l, 3=o, 4=u, 5=d] , -Ve Index ==> [-6=t, -5=c ,-4=l , -3=o, -2=u, -1=d]\n",
    "print type(a)\n",
    "print a[1]\n",
    "print a[4]\n",
    "print a[-1]\n",
    "print a[-4]\n",
    "print a[-6]\n",
    "\n",
    "print a[3]\n",
    "print a[-3]\n",
    "\n",
    "#a[3] = 'k'      #'str' object does not support item assignment"
   ]
  },
  {
   "cell_type": "code",
   "execution_count": 3,
   "metadata": {},
   "outputs": [
    {
     "name": "stdout",
     "output_type": "stream",
     "text": [
      "c\n",
      "cloud\n",
      "it\n",
      "ud it\n",
      "tcloud\n"
     ]
    }
   ],
   "source": [
    "#String Slicing Operation with :\n",
    "\n",
    "a = \"tcloud it\"\n",
    "\n",
    "print a[1]\n",
    "print a[1:6]\n",
    "print a[7:9]\n",
    "print a[4:]\n",
    "print a[:6]"
   ]
  },
  {
   "cell_type": "code",
   "execution_count": null,
   "metadata": {},
   "outputs": [],
   "source": [
    "#String Methods"
   ]
  },
  {
   "cell_type": "code",
   "execution_count": 4,
   "metadata": {},
   "outputs": [
    {
     "name": "stdout",
     "output_type": "stream",
     "text": [
      "Help on built-in function capitalize:\n",
      "\n",
      "capitalize(...)\n",
      "    S.capitalize() -> string\n",
      "    \n",
      "    Return a copy of the string S with only its first character\n",
      "    capitalized.\n",
      "\n",
      "None\n",
      "Tcloud\n"
     ]
    }
   ],
   "source": [
    "a = \"tcloud\"\n",
    "print help(a.capitalize)\n",
    "print a.capitalize()"
   ]
  },
  {
   "cell_type": "code",
   "execution_count": 5,
   "metadata": {},
   "outputs": [
    {
     "name": "stdout",
     "output_type": "stream",
     "text": [
      "Help on built-in function center:\n",
      "\n",
      "center(...)\n",
      "    S.center(width[, fillchar]) -> string\n",
      "    \n",
      "    Return S centered in a string of length width. Padding is\n",
      "    done using the specified fill character (default is a space)\n",
      "\n",
      "None\n",
      "tcloud\n",
      "  tcloud  \n",
      "**tcloud**\n",
      "#################tcloud#################\n"
     ]
    }
   ],
   "source": [
    "a = \"tcloud\"\n",
    "print help(a.center) \n",
    "\n",
    "print a.center(6)\n",
    "print a.center(10)\n",
    "print a.center(10, '*')\n",
    "print a.center(40, '#')"
   ]
  },
  {
   "cell_type": "code",
   "execution_count": 6,
   "metadata": {},
   "outputs": [
    {
     "name": "stdout",
     "output_type": "stream",
     "text": [
      "Help on built-in function count:\n",
      "\n",
      "count(...)\n",
      "    S.count(sub[, start[, end]]) -> int\n",
      "    \n",
      "    Return the number of non-overlapping occurrences of substring sub in\n",
      "    string S[start:end].  Optional arguments start and end are interpreted\n",
      "    as in slice notation.\n",
      "\n",
      "None\n",
      "2\n",
      "5\n",
      "3\n"
     ]
    }
   ],
   "source": [
    "a = \"tcloud information technologies private limited\"\n",
    "print help(a.count) \n",
    "\n",
    "print a.count('lo')        #lo is present two times 1)in tcloud 2) in technologies\n",
    "print a.count('i' , 10)    #After 10th index Position substring 'i' is present 5 Times\n",
    "print a.count('i', 10, 35) # Between 10th and 35th Index positions, substring 'i' is present 3 times\n"
   ]
  },
  {
   "cell_type": "code",
   "execution_count": 7,
   "metadata": {},
   "outputs": [
    {
     "name": "stdout",
     "output_type": "stream",
     "text": [
      "Help on built-in function encode:\n",
      "\n",
      "encode(...)\n",
      "    S.encode([encoding[,errors]]) -> object\n",
      "    \n",
      "    Encodes S using the codec registered for encoding. encoding defaults\n",
      "    to the default encoding. errors may be given to set a different error\n",
      "    handling scheme. Default is 'strict' meaning that encoding errors raise\n",
      "    a UnicodeEncodeError. Other possible values are 'ignore', 'replace' and\n",
      "    'xmlcharrefreplace' as well as any other name registered with\n",
      "    codecs.register_error that is able to handle UnicodeEncodeErrors.\n",
      "\n",
      "None\n",
      "tcloud\n",
      "tcloud\n",
      "dGNsb3Vk\n",
      "\n"
     ]
    }
   ],
   "source": [
    "#String Encoding\n",
    "\n",
    "a = \"tcloud\"\n",
    "b = \"special Character now å\"\n",
    "print help(a.encode)\n",
    "\n",
    "print a.encode()\n",
    "print a.encode('utf_8')\n",
    "print a.encode('base64')\n",
    "\n",
    "#print b.encode()\n"
   ]
  },
  {
   "cell_type": "code",
   "execution_count": 8,
   "metadata": {},
   "outputs": [
    {
     "name": "stdout",
     "output_type": "stream",
     "text": [
      "Help on built-in function decode:\n",
      "\n",
      "decode(...)\n",
      "    S.decode([encoding[,errors]]) -> object\n",
      "    \n",
      "    Decodes S using the codec registered for encoding. encoding defaults\n",
      "    to the default encoding. errors may be given to set a different error\n",
      "    handling scheme. Default is 'strict' meaning that encoding errors raise\n",
      "    a UnicodeDecodeError. Other possible values are 'ignore' and 'replace'\n",
      "    as well as any other name registered with codecs.register_error that is\n",
      "    able to handle UnicodeDecodeErrors.\n",
      "\n",
      "None\n"
     ]
    }
   ],
   "source": [
    "#String Decoding\n",
    "\n",
    "a = \"tcloud information technologies private limited\"\n",
    "print help(a.decode) "
   ]
  },
  {
   "cell_type": "code",
   "execution_count": 9,
   "metadata": {},
   "outputs": [
    {
     "name": "stdout",
     "output_type": "stream",
     "text": [
      "Help on built-in function endswith:\n",
      "\n",
      "endswith(...)\n",
      "    S.endswith(suffix[, start[, end]]) -> bool\n",
      "    \n",
      "    Return True if S ends with the specified suffix, False otherwise.\n",
      "    With optional start, test S beginning at that position.\n",
      "    With optional end, stop comparing S at that position.\n",
      "    suffix can also be a tuple of strings to try.\n",
      "\n",
      "None\n",
      "True\n",
      "False\n"
     ]
    }
   ],
   "source": [
    "a = \"tcloud information technologies private limited\"\n",
    "print help(a.endswith)\n",
    "\n",
    "print a.endswith('limited')\n",
    "print a.endswith('limited' , 10, 17) # is this suffix 'limited' present between index values 10 and 17 - no!!\n"
   ]
  },
  {
   "cell_type": "code",
   "execution_count": 10,
   "metadata": {},
   "outputs": [
    {
     "name": "stdout",
     "output_type": "stream",
     "text": [
      "Help on built-in function expandtabs:\n",
      "\n",
      "expandtabs(...)\n",
      "    S.expandtabs([tabsize]) -> string\n",
      "    \n",
      "    Return a copy of S where all tab characters are expanded using spaces.\n",
      "    If tabsize is not given, a tab size of 8 characters is assumed.\n",
      "\n",
      "None\n",
      "tcloud information technologies private limited\n"
     ]
    }
   ],
   "source": [
    "a = \"tcloud information technologies private limited\"\n",
    "print help(a.expandtabs)\n",
    "\n",
    "print a.expandtabs() #Inserting tab only workds in a python program only. doesn't work in jupyter notebook!\n"
   ]
  },
  {
   "cell_type": "code",
   "execution_count": 11,
   "metadata": {},
   "outputs": [
    {
     "name": "stdout",
     "output_type": "stream",
     "text": [
      "Help on built-in function find:\n",
      "\n",
      "find(...)\n",
      "    S.find(sub [,start [,end]]) -> int\n",
      "    \n",
      "    Return the lowest index in S where substring sub is found,\n",
      "    such that sub is contained within S[start:end].  Optional\n",
      "    arguments start and end are interpreted as in slice notation.\n",
      "    \n",
      "    Return -1 on failure.\n",
      "\n",
      "None\n",
      "2\n",
      "25\n",
      "-1\n"
     ]
    }
   ],
   "source": [
    "a = \"tcloud information technologies private limited\"\n",
    "print help(a.find)\n",
    "\n",
    "print a.find('lo') #'lo' substring starts from index position 2\n",
    "print a.find('lo' , 15) #If search starts at index position 15, 'lo' substring starts found is in index position 25!\n",
    "print a.find('lo', 15, 24) #returns -1 as 'lo' substring can't be found between index position 15 to 24!"
   ]
  },
  {
   "cell_type": "code",
   "execution_count": 12,
   "metadata": {},
   "outputs": [
    {
     "name": "stdout",
     "output_type": "stream",
     "text": [
      "Help on built-in function format:\n",
      "\n",
      "format(...)\n",
      "    S.format(*args, **kwargs) -> string\n",
      "    \n",
      "    Return a formatted version of S, using substitutions from args and kwargs.\n",
      "    The substitutions are identified by braces ('{' and '}').\n",
      "\n",
      "None\n",
      "tcloud information technologies private limited\n",
      "tcloud information technologies private limited\n",
      "tcloud information technologies information limited\n"
     ]
    }
   ],
   "source": [
    "a = \"tcloud {} technologies {} limited\"\n",
    "b = \"tcloud {0} technologies {1} limited\"\n",
    "c = \"tcloud {0} technologies {0} limited\"\n",
    "print help(a.format)\n",
    "\n",
    "print a.format('information', 'private') #'information' and 'private' substitutes {} and {} in the string\n",
    "print b.format('information', 'private') #'information' and 'private' substitutes {0} and {1} in the string. By Default the indexing is {0} and {1} only\n",
    "print c.format('information', 'private') #'information' gets repeated twice as both substitutes refer to 0th index with {0}"
   ]
  },
  {
   "cell_type": "code",
   "execution_count": 13,
   "metadata": {},
   "outputs": [
    {
     "name": "stdout",
     "output_type": "stream",
     "text": [
      "Help on built-in function index:\n",
      "\n",
      "index(...)\n",
      "    S.index(sub [,start [,end]]) -> int\n",
      "    \n",
      "    Like S.find() but raise ValueError when the substring is not found.\n",
      "\n",
      "None\n",
      "32\n"
     ]
    }
   ],
   "source": [
    "a = \"tcloud information technologies private limited\"\n",
    "print help(a.index)\n",
    "\n",
    "print a.index('private') #'private' substring is found in index position 32!"
   ]
  },
  {
   "cell_type": "code",
   "execution_count": 14,
   "metadata": {},
   "outputs": [
    {
     "name": "stdout",
     "output_type": "stream",
     "text": [
      "Help on built-in function isalnum:\n",
      "\n",
      "isalnum(...)\n",
      "    S.isalnum() -> bool\n",
      "    \n",
      "    Return True if all characters in S are alphanumeric\n",
      "    and there is at least one character in S, False otherwise.\n",
      "\n",
      "None\n",
      "True\n",
      "True\n"
     ]
    }
   ],
   "source": [
    "a = \"tcloud\"\n",
    "b = \"abcd123\"\n",
    "print help(a.isalnum)\n",
    "\n",
    "print a.isalnum()\n",
    "print b.isalnum()"
   ]
  },
  {
   "cell_type": "code",
   "execution_count": 15,
   "metadata": {},
   "outputs": [
    {
     "name": "stdout",
     "output_type": "stream",
     "text": [
      "Help on built-in function isalpha:\n",
      "\n",
      "isalpha(...)\n",
      "    S.isalpha() -> bool\n",
      "    \n",
      "    Return True if all characters in S are alphabetic\n",
      "    and there is at least one character in S, False otherwise.\n",
      "\n",
      "None\n",
      "True\n",
      "False\n"
     ]
    }
   ],
   "source": [
    "a = \"tcloud\"\n",
    "b = \"abcd123\"\n",
    "print help(a.isalpha)\n",
    "\n",
    "print a.isalpha()\n",
    "print b.isalpha()"
   ]
  },
  {
   "cell_type": "code",
   "execution_count": 16,
   "metadata": {},
   "outputs": [
    {
     "name": "stdout",
     "output_type": "stream",
     "text": [
      "Help on built-in function isdigit:\n",
      "\n",
      "isdigit(...)\n",
      "    S.isdigit() -> bool\n",
      "    \n",
      "    Return True if all characters in S are digits\n",
      "    and there is at least one character in S, False otherwise.\n",
      "\n",
      "None\n",
      "False\n",
      "True\n"
     ]
    }
   ],
   "source": [
    "a = \"tcloud123\"\n",
    "b = \"123\"\n",
    "print help(a.isdigit)\n",
    "\n",
    "print a.isdigit()\n",
    "print b.isdigit()"
   ]
  },
  {
   "cell_type": "code",
   "execution_count": 17,
   "metadata": {},
   "outputs": [
    {
     "name": "stdout",
     "output_type": "stream",
     "text": [
      "Help on built-in function islower:\n",
      "\n",
      "islower(...)\n",
      "    S.islower() -> bool\n",
      "    \n",
      "    Return True if all cased characters in S are lowercase and there is\n",
      "    at least one cased character in S, False otherwise.\n",
      "\n",
      "None\n",
      "True\n",
      "False\n"
     ]
    }
   ],
   "source": [
    "a = \"tcloud\"\n",
    "b = \"Tcloud\"\n",
    "print help(a.islower)\n",
    "\n",
    "print a.islower()\n",
    "print b.islower()"
   ]
  },
  {
   "cell_type": "code",
   "execution_count": 18,
   "metadata": {},
   "outputs": [
    {
     "name": "stdout",
     "output_type": "stream",
     "text": [
      "Help on built-in function isspace:\n",
      "\n",
      "isspace(...)\n",
      "    S.isspace() -> bool\n",
      "    \n",
      "    Return True if all characters in S are whitespace\n",
      "    and there is at least one character in S, False otherwise.\n",
      "\n",
      "None\n",
      "False\n",
      "True\n"
     ]
    }
   ],
   "source": [
    "a = \"tcloud\"\n",
    "b = \"      \"\n",
    "print help(a.isspace)\n",
    "\n",
    "print a.isspace()\n",
    "print b.isspace()"
   ]
  },
  {
   "cell_type": "code",
   "execution_count": 19,
   "metadata": {},
   "outputs": [
    {
     "name": "stdout",
     "output_type": "stream",
     "text": [
      "Help on built-in function istitle:\n",
      "\n",
      "istitle(...)\n",
      "    S.istitle() -> bool\n",
      "    \n",
      "    Return True if S is a titlecased string and there is at least one\n",
      "    character in S, i.e. uppercase characters may only follow uncased\n",
      "    characters and lowercase characters only cased ones. Return False\n",
      "    otherwise.\n",
      "\n",
      "None\n",
      "True\n",
      "False\n",
      "False\n"
     ]
    }
   ],
   "source": [
    "a = \"Tcloud Information Technologies Pvt Ltd\"\n",
    "b = \"Tcloud information technologies pvt ltd\"\n",
    "c = \"tcloud information technologies pvt ltd\"\n",
    "print help(a.istitle)\n",
    "\n",
    "print a.istitle()\n",
    "print b.istitle()\n",
    "print c.istitle()"
   ]
  },
  {
   "cell_type": "code",
   "execution_count": 20,
   "metadata": {},
   "outputs": [
    {
     "name": "stdout",
     "output_type": "stream",
     "text": [
      "Help on built-in function isupper:\n",
      "\n",
      "isupper(...)\n",
      "    S.isupper() -> bool\n",
      "    \n",
      "    Return True if all cased characters in S are uppercase and there is\n",
      "    at least one cased character in S, False otherwise.\n",
      "\n",
      "None\n",
      "False\n",
      "True\n"
     ]
    }
   ],
   "source": [
    "a = \"Tcloud\"\n",
    "b = \"TCLOUD\"\n",
    "print help(a.isupper)\n",
    "\n",
    "print a.isupper()\n",
    "print b.isupper()"
   ]
  },
  {
   "cell_type": "code",
   "execution_count": 21,
   "metadata": {},
   "outputs": [
    {
     "name": "stdout",
     "output_type": "stream",
     "text": [
      "Help on built-in function join:\n",
      "\n",
      "join(...)\n",
      "    S.join(iterable) -> string\n",
      "    \n",
      "    Return a string which is the concatenation of the strings in the\n",
      "    iterable.  The separator between elements is S.\n",
      "\n",
      "None\n",
      "a123b123c\n",
      "1abc2abc3\n",
      "1abc2abc3abc4\n",
      "a1234b1234c\n",
      "tITcITlIToITuITd\n"
     ]
    }
   ],
   "source": [
    "a = \"123\"\n",
    "b = \"abc\"\n",
    "c = \"1234\"\n",
    "d = \"tcloud\"\n",
    "e = \"IT\"\n",
    "print help(a.join)\n",
    "\n",
    "print a.join(b)\n",
    "print b.join(a)\n",
    "\n",
    "print b.join(c)\n",
    "print c.join(b)\n",
    "\n",
    "print e.join(d)"
   ]
  },
  {
   "cell_type": "code",
   "execution_count": 22,
   "metadata": {},
   "outputs": [
    {
     "name": "stdout",
     "output_type": "stream",
     "text": [
      "Help on built-in function ljust:\n",
      "\n",
      "ljust(...)\n",
      "    S.ljust(width[, fillchar]) -> string\n",
      "    \n",
      "    Return S left-justified in a string of length width. Padding is\n",
      "    done using the specified fill character (default is a space).\n",
      "\n",
      "None\n",
      "TCLOUD    \n",
      "TCLOUD****\n",
      "TCLOUD####\n"
     ]
    }
   ],
   "source": [
    "a = \"TCLOUD\"\n",
    "print help(a.ljust)\n",
    "\n",
    "print a.ljust(10)       #string gets placed in a 10 space string stucture with left alignment and spaces on the right\n",
    "print a.ljust(10, '*')  #string gets placed in a 10 space string stucture with left alignment and * on the right\n",
    "print a.ljust(10, '#')  #string gets placed in a 10 space string stucture with left alignment and # on the right"
   ]
  },
  {
   "cell_type": "code",
   "execution_count": 23,
   "metadata": {},
   "outputs": [
    {
     "name": "stdout",
     "output_type": "stream",
     "text": [
      "Help on built-in function lower:\n",
      "\n",
      "lower(...)\n",
      "    S.lower() -> string\n",
      "    \n",
      "    Return a copy of the string S converted to lowercase.\n",
      "\n",
      "None\n",
      "tcloud\n"
     ]
    }
   ],
   "source": [
    "a = \"TCLOUD\"\n",
    "print help(a.lower)\n",
    "\n",
    "print a.lower()"
   ]
  },
  {
   "cell_type": "code",
   "execution_count": 24,
   "metadata": {},
   "outputs": [
    {
     "name": "stdout",
     "output_type": "stream",
     "text": [
      "Help on built-in function lstrip:\n",
      "\n",
      "lstrip(...)\n",
      "    S.lstrip([chars]) -> string or unicode\n",
      "    \n",
      "    Return a copy of the string S with leading whitespace removed.\n",
      "    If chars is given and not None, remove characters in chars instead.\n",
      "    If chars is unicode, S will be converted to unicode before stripping\n",
      "\n",
      "None\n",
      "TCLOUD  IT      \n"
     ]
    }
   ],
   "source": [
    "a = \"          TCLOUD  IT      \"\n",
    "print help(a.lstrip)\n",
    "\n",
    "print a.lstrip()"
   ]
  },
  {
   "cell_type": "code",
   "execution_count": 25,
   "metadata": {},
   "outputs": [
    {
     "name": "stdout",
     "output_type": "stream",
     "text": [
      "Help on built-in function partition:\n",
      "\n",
      "partition(...)\n",
      "    S.partition(sep) -> (head, sep, tail)\n",
      "    \n",
      "    Search for the separator sep in S, and return the part before it,\n",
      "    the separator itself, and the part after it.  If the separator is not\n",
      "    found, return S and two empty strings.\n",
      "\n",
      "None\n",
      "('Tcloud Information ', 'Technologies', ' Private Limited')\n"
     ]
    }
   ],
   "source": [
    "a = \"Tcloud Information Technologies Private Limited\"\n",
    "print help(a.partition)\n",
    "\n",
    "print a.partition('Technologies')"
   ]
  },
  {
   "cell_type": "code",
   "execution_count": 26,
   "metadata": {},
   "outputs": [
    {
     "name": "stdout",
     "output_type": "stream",
     "text": [
      "Help on built-in function replace:\n",
      "\n",
      "replace(...)\n",
      "    S.replace(old, new[, count]) -> string\n",
      "    \n",
      "    Return a copy of string S with all occurrences of substring\n",
      "    old replaced by new.  If the optional argument count is\n",
      "    given, only the first count occurrences are replaced.\n",
      "\n",
      "None\n",
      "Tcloud Information Technologies PVT LTD\n",
      "TELECOM is a Technology with enormous R&D scope. TCLOUD is a TELECOM Technology Company. TCLOUD Stands for Telecom Cloud\n"
     ]
    }
   ],
   "source": [
    "a = \"Tcloud Information Technologies Private LTD\"\n",
    "b = \"Telecom is a Technology with enormous R&D scope. TCLOUD is a Telecom Technology Company. TCLOUD Stands for Telecom Cloud\"\n",
    "print help(a.replace)\n",
    "\n",
    "print a.replace('Private', 'PVT')\n",
    "print b.replace('Telecom', 'TELECOM', 2) #Only forst two Instances will be replaced out of available 3 Instances\n"
   ]
  },
  {
   "cell_type": "code",
   "execution_count": 27,
   "metadata": {},
   "outputs": [
    {
     "name": "stdout",
     "output_type": "stream",
     "text": [
      "Help on built-in function rfind:\n",
      "\n",
      "rfind(...)\n",
      "    S.rfind(sub [,start [,end]]) -> int\n",
      "    \n",
      "    Return the highest index in S where substring sub is found,\n",
      "    such that sub is contained within S[start:end].  Optional\n",
      "    arguments start and end are interpreted as in slice notation.\n",
      "    \n",
      "    Return -1 on failure.\n",
      "\n",
      "None\n",
      "25\n",
      "-1\n"
     ]
    }
   ],
   "source": [
    "a = \"Tcloud Information Technologies Private Limited\"\n",
    "print help(a.rfind)\n",
    "\n",
    "print a.rfind(\"lo\") #lo is avaible at index positions 2 and 25. Highest Index 25 is returned! \n",
    "print a.rfind(\"hyderabad\") # returns -1"
   ]
  },
  {
   "cell_type": "code",
   "execution_count": 28,
   "metadata": {},
   "outputs": [
    {
     "name": "stdout",
     "output_type": "stream",
     "text": [
      "Help on built-in function rindex:\n",
      "\n",
      "rindex(...)\n",
      "    S.rindex(sub [,start [,end]]) -> int\n",
      "    \n",
      "    Like S.rfind() but raise ValueError when the substring is not found.\n",
      "\n",
      "None\n",
      "25\n"
     ]
    }
   ],
   "source": [
    "a = \"Tcloud Information Technologies Private Limited\"\n",
    "print help(a.rindex)\n",
    "\n",
    "print a.rindex('lo')\n",
    "#print a.rindex(\"hyderabad\") #returns #valueError as substring \"hyderabad\" is not present"
   ]
  },
  {
   "cell_type": "code",
   "execution_count": 29,
   "metadata": {},
   "outputs": [
    {
     "name": "stdout",
     "output_type": "stream",
     "text": [
      "Help on built-in function rjust:\n",
      "\n",
      "rjust(...)\n",
      "    S.rjust(width[, fillchar]) -> string\n",
      "    \n",
      "    Return S right-justified in a string of length width. Padding is\n",
      "    done using the specified fill character (default is a space)\n",
      "\n",
      "None\n",
      "    TCLOUD\n",
      "****TCLOUD\n",
      "####TCLOUD\n"
     ]
    }
   ],
   "source": [
    "a = \"TCLOUD\"\n",
    "print help(a.rjust)\n",
    "\n",
    "print a.rjust(10)       #string gets placed in a 10 space string stucture with right alignment and spaces on the left\n",
    "print a.rjust(10, '*')  #string gets placed in a 10 space string stucture with right alignment and * on the left\n",
    "print a.rjust(10, '#')  #string gets placed in a 10 space string stucture with right alignment and # on the left"
   ]
  },
  {
   "cell_type": "code",
   "execution_count": 30,
   "metadata": {},
   "outputs": [
    {
     "name": "stdout",
     "output_type": "stream",
     "text": [
      "Help on built-in function rpartition:\n",
      "\n",
      "rpartition(...)\n",
      "    S.rpartition(sep) -> (head, sep, tail)\n",
      "    \n",
      "    Search for the separator sep in S, starting at the end of S, and return\n",
      "    the part before it, the separator itself, and the part after it.  If the\n",
      "    separator is not found, return two empty strings and S.\n",
      "\n",
      "None\n",
      "('Tcloud ', 'IT', ' Private Limited')\n",
      "('', '', 'Tcloud IT Private Limited')\n"
     ]
    }
   ],
   "source": [
    "a = \"Tcloud IT Private Limited\"\n",
    "print help(a.rpartition)\n",
    "\n",
    "print a.rpartition('IT')          #substring 'IT' is present\n",
    "print a.rpartition('Technology')  #substring 'Technology' is not present"
   ]
  },
  {
   "cell_type": "code",
   "execution_count": 31,
   "metadata": {},
   "outputs": [
    {
     "name": "stdout",
     "output_type": "stream",
     "text": [
      "Help on built-in function rsplit:\n",
      "\n",
      "rsplit(...)\n",
      "    S.rsplit([sep [,maxsplit]]) -> list of strings\n",
      "    \n",
      "    Return a list of the words in the string S, using sep as the\n",
      "    delimiter string, starting at the end of the string and working\n",
      "    to the front.  If maxsplit is given, at most maxsplit splits are\n",
      "    done. If sep is not specified or is None, any whitespace string\n",
      "    is a separator.\n",
      "\n",
      "None\n",
      "['Tcloud', 'IT', 'Private', 'Limited']\n",
      "['Tcloud ', ' Private Limited']\n",
      "['Tcloud IT Private Limited']\n"
     ]
    }
   ],
   "source": [
    "a = \"Tcloud IT Private Limited\"\n",
    "print help(a.rsplit)\n",
    "\n",
    "print a.rsplit()\n",
    "print a.rsplit('IT')          #substring 'IT' is present\n",
    "print a.rsplit('Technology')  #substring 'Technology' is not present"
   ]
  },
  {
   "cell_type": "code",
   "execution_count": 32,
   "metadata": {},
   "outputs": [
    {
     "name": "stdout",
     "output_type": "stream",
     "text": [
      "Help on built-in function rstrip:\n",
      "\n",
      "rstrip(...)\n",
      "    S.rstrip([chars]) -> string or unicode\n",
      "    \n",
      "    Return a copy of the string S with trailing whitespace removed.\n",
      "    If chars is given and not None, remove characters in chars instead.\n",
      "    If chars is unicode, S will be converted to unicode before stripping\n",
      "\n",
      "None\n",
      "          TCLOUD  IT\n"
     ]
    }
   ],
   "source": [
    "a = \"          TCLOUD  IT      \"\n",
    "print help(a.rstrip)\n",
    "\n",
    "print a.rstrip()"
   ]
  },
  {
   "cell_type": "code",
   "execution_count": 33,
   "metadata": {},
   "outputs": [
    {
     "name": "stdout",
     "output_type": "stream",
     "text": [
      "Help on built-in function split:\n",
      "\n",
      "split(...)\n",
      "    S.split([sep [,maxsplit]]) -> list of strings\n",
      "    \n",
      "    Return a list of the words in the string S, using sep as the\n",
      "    delimiter string.  If maxsplit is given, at most maxsplit\n",
      "    splits are done. If sep is not specified or is None, any\n",
      "    whitespace string is a separator and empty strings are removed\n",
      "    from the result.\n",
      "\n",
      "None\n",
      "['Tcloud', 'IT', 'Private', 'Limited']\n",
      "['Tcloud ', ' Private Limited']\n"
     ]
    }
   ],
   "source": [
    "a = \"Tcloud IT Private Limited\"\n",
    "print help(a.split)\n",
    "\n",
    "print a.split()\n",
    "print a.split('IT')"
   ]
  },
  {
   "cell_type": "code",
   "execution_count": 34,
   "metadata": {},
   "outputs": [
    {
     "name": "stdout",
     "output_type": "stream",
     "text": [
      "Help on built-in function splitlines:\n",
      "\n",
      "splitlines(...)\n",
      "    S.splitlines(keepends=False) -> list of strings\n",
      "    \n",
      "    Return a list of the lines in S, breaking at line boundaries.\n",
      "    Line breaks are not included in the resulting list unless keepends\n",
      "    is given and true.\n",
      "\n",
      "None\n",
      "['Tcloud IT Private Limited ', ' Hyderabad ', ' India']\n"
     ]
    }
   ],
   "source": [
    "a = \"Tcloud IT Private Limited \\n Hyderabad \\n India\"\n",
    "print help(a.splitlines)\n",
    "\n",
    "print a.splitlines() #splits at line ending symbol \\n"
   ]
  },
  {
   "cell_type": "code",
   "execution_count": 35,
   "metadata": {},
   "outputs": [
    {
     "name": "stdout",
     "output_type": "stream",
     "text": [
      "Help on built-in function startswith:\n",
      "\n",
      "startswith(...)\n",
      "    S.startswith(prefix[, start[, end]]) -> bool\n",
      "    \n",
      "    Return True if S starts with the specified prefix, False otherwise.\n",
      "    With optional start, test S beginning at that position.\n",
      "    With optional end, stop comparing S at that position.\n",
      "    prefix can also be a tuple of strings to try.\n",
      "\n",
      "None\n",
      "True\n"
     ]
    }
   ],
   "source": [
    "a = \"Tcloud IT Private Limited \\n Hyderabad \\nIndia The Great\"\n",
    "print help(a.startswith)\n",
    "\n",
    "print a.startswith('Tcloud') "
   ]
  },
  {
   "cell_type": "code",
   "execution_count": 36,
   "metadata": {},
   "outputs": [
    {
     "name": "stdout",
     "output_type": "stream",
     "text": [
      "Help on built-in function strip:\n",
      "\n",
      "strip(...)\n",
      "    S.strip([chars]) -> string or unicode\n",
      "    \n",
      "    Return a copy of the string S with leading and trailing\n",
      "    whitespace removed.\n",
      "    If chars is given and not None, remove characters in chars instead.\n",
      "    If chars is unicode, S will be converted to unicode before stripping\n",
      "\n",
      "None\n",
      "Tcloud IT Private Limited\n",
      "cloud IT Private Limited\n"
     ]
    }
   ],
   "source": [
    "a = \"   Tcloud IT Private Limited  \"\n",
    "print help(a.strip)\n",
    "\n",
    "print a.strip()\n",
    "print a.strip('   T')"
   ]
  },
  {
   "cell_type": "code",
   "execution_count": 37,
   "metadata": {},
   "outputs": [
    {
     "name": "stdout",
     "output_type": "stream",
     "text": [
      "Help on built-in function swapcase:\n",
      "\n",
      "swapcase(...)\n",
      "    S.swapcase() -> string\n",
      "    \n",
      "    Return a copy of the string S with uppercase characters\n",
      "    converted to lowercase and vice versa.\n",
      "\n",
      "None\n",
      "tCLOUD it pRIVATE lIMITED\n"
     ]
    }
   ],
   "source": [
    "a = \"Tcloud IT Private Limited\"\n",
    "print help(a.swapcase)\n",
    "\n",
    "print a.swapcase()"
   ]
  },
  {
   "cell_type": "code",
   "execution_count": 38,
   "metadata": {},
   "outputs": [
    {
     "name": "stdout",
     "output_type": "stream",
     "text": [
      "Help on built-in function title:\n",
      "\n",
      "title(...)\n",
      "    S.title() -> string\n",
      "    \n",
      "    Return a titlecased version of S, i.e. words start with uppercase\n",
      "    characters, all remaining cased characters have lowercase.\n",
      "\n",
      "None\n",
      "Tcloud Information Technologies Private Limited\n"
     ]
    }
   ],
   "source": [
    "a = \"tcloud information technologies private limited\"\n",
    "print help(a.title)\n",
    "\n",
    "print a.title()"
   ]
  },
  {
   "cell_type": "code",
   "execution_count": 39,
   "metadata": {},
   "outputs": [
    {
     "name": "stdout",
     "output_type": "stream",
     "text": [
      "Help on built-in function translate:\n",
      "\n",
      "translate(...)\n",
      "    S.translate(table [,deletechars]) -> string\n",
      "    \n",
      "    Return a copy of the string S, where all characters occurring\n",
      "    in the optional argument deletechars are removed, and the\n",
      "    remaining characters have been mapped through the given\n",
      "    translation table, which must be a string of length 256 or None.\n",
      "    If the table argument is None, no translation is applied and\n",
      "    the operation simply removes the characters in deletechars.\n",
      "\n",
      "None\n",
      "tcloud InformatIon technologIes prIvate lImIted\n",
      "tCLOUD infOrmatiOn teChnOLOgies private LimiteD\n"
     ]
    }
   ],
   "source": [
    "from string import maketrans\n",
    "\n",
    "a = \"tcloud information technologies private limited\"\n",
    "print help(a.translate)\n",
    "\n",
    "translation_table1 = maketrans('i', 'I') # All 'i' present in the string are translated with 'I'\n",
    "translation_table2 = maketrans('cloud', 'CLOUD') # Any letters in 'cloud' present in the string are translated with 'CLOUD' respectively\n",
    "\n",
    "print a.translate(translation_table1)\n",
    "print a.translate(translation_table2)"
   ]
  },
  {
   "cell_type": "code",
   "execution_count": 40,
   "metadata": {},
   "outputs": [
    {
     "name": "stdout",
     "output_type": "stream",
     "text": [
      "Help on built-in function upper:\n",
      "\n",
      "upper(...)\n",
      "    S.upper() -> string\n",
      "    \n",
      "    Return a copy of the string S converted to uppercase.\n",
      "\n",
      "None\n",
      "TCLOUD INFORMATION TECHNOLOGIES PRIVATE LIMITED\n"
     ]
    }
   ],
   "source": [
    "a = \"tcloud information technologies private limited\"\n",
    "print help(a.upper)\n",
    "\n",
    "print a.upper()"
   ]
  },
  {
   "cell_type": "code",
   "execution_count": 41,
   "metadata": {},
   "outputs": [
    {
     "name": "stdout",
     "output_type": "stream",
     "text": [
      "Help on built-in function zfill:\n",
      "\n",
      "zfill(...)\n",
      "    S.zfill(width) -> string\n",
      "    \n",
      "    Pad a numeric string S with zeros on the left, to fill a field\n",
      "    of the specified width.  The string S is never truncated.\n",
      "\n",
      "None\n",
      "000000000tcloud\n"
     ]
    }
   ],
   "source": [
    "a = \"tcloud\"\n",
    "print help(a.zfill)\n",
    "\n",
    "print a.zfill(15)"
   ]
  },
  {
   "cell_type": "code",
   "execution_count": 42,
   "metadata": {},
   "outputs": [
    {
     "name": "stdout",
     "output_type": "stream",
     "text": [
      "We are studying Python at b\n",
      "we are studying Python at tcloud\n",
      "we are studying Python at tcloud and tcloud is physically located at Hyderabad\n",
      "we are studying Python at tcloud and tcloud is physically located at Hyderabad but teaches worldwide!\n",
      "We are {}\n",
      "we are tcloud\n",
      "we are tcloud and tcloud is located at hyderabad\n",
      "we are tcloud and tcloud is located at hyderabad\n",
      "We are tcloud and tcloud is located at hyderbad but teaches worldwide!\n"
     ]
    }
   ],
   "source": [
    "#Using string format method for Effective 'print'ing operation\n",
    "\n",
    "b = \"tcloud\"\n",
    "c = \"worldwide\"\n",
    "\n",
    "print \"We are studying Python at b\"\n",
    "print \"we are studying Python at %s\"%(b)\n",
    "print \"we are studying Python at %s and %s is physically located at Hyderabad\"%(b,b)\n",
    "#print \"we are studying Python at %s and %s is physically located at Hyderabad but teaches %s\"%(b,c) #TypeError: not enough arguments for format string\n",
    "print \"we are studying Python at %s and %s is physically located at Hyderabad but teaches %s!\"%(b,b,c)\n",
    "\n",
    "print \"We are {}\"\n",
    "print \"we are {}\".format(b)\n",
    "#print \"we are {} and {} is located at hyderabad\".format(b) #IndexError: tuple index out of range\n",
    "print \"we are {} and {} is located at hyderabad\".format(b,b)\n",
    "print \"we are {0} and {0} is located at hyderabad\".format(b)\n",
    "print \"We are {0} and {0} is located at hyderbad but teaches {1}!\".format(b,c)"
   ]
  },
  {
   "cell_type": "code",
   "execution_count": 43,
   "metadata": {},
   "outputs": [
    {
     "name": "stdout",
     "output_type": "stream",
     "text": [
      "we are studying Python at Tcloud and TCLOUD is physically located at Hyderabad but teaches Worldwide!\n"
     ]
    }
   ],
   "source": [
    "d = (\"Tcloud\", \"Hyderabad\", \"Worldwide\")\n",
    "e = \"we are studying Python at %s and TCLOUD is physically located at %s but teaches %s!\"\n",
    "\n",
    "print e%d"
   ]
  },
  {
   "cell_type": "code",
   "execution_count": 44,
   "metadata": {},
   "outputs": [
    {
     "name": "stdout",
     "output_type": "stream",
     "text": [
      "we are studying Python at Tcloud and TCLOUD is physically located at Hyderabad but teaches Worldwide!\n"
     ]
    }
   ],
   "source": [
    "d = (\"Tcloud\", \"Hyderabad\", \"Worldwide\")\n",
    "e = \"we are studying Python at {} and TCLOUD is physically located at {} but teaches {}!\"\n",
    "\n",
    "print e.format(d[0], d[1], d[2])"
   ]
  },
  {
   "cell_type": "code",
   "execution_count": 45,
   "metadata": {},
   "outputs": [
    {
     "name": "stdout",
     "output_type": "stream",
     "text": [
      "Hyderabad 21\n",
      "Delhi 24\n",
      "Bombay 34\n",
      "Kolkata 37\n",
      "Vijayawada 31\n",
      " Hyderabad 21\n",
      "     Delhi 24\n",
      "    Bombay 34\n",
      "   Kolkata 37\n",
      "Vijayawada 31\n"
     ]
    }
   ],
   "source": [
    "f = (\"Hyderabad\", \"Delhi\", \"Bombay\", \"Kolkata\", \"Vijayawada\")\n",
    "g = \"%s 21\\n%s 24\\n%s 34\\n%s 37\\n%s 31\"\n",
    "h = \"%10s 21\\n%10s 24\\n%10s 34\\n%10s 37\\n%10s 31\"\n",
    "\n",
    "print g%f\n",
    "print h%f"
   ]
  }
 ],
 "metadata": {
  "kernelspec": {
   "display_name": "Python 2",
   "language": "python",
   "name": "python2"
  },
  "language_info": {
   "codemirror_mode": {
    "name": "ipython",
    "version": 2
   },
   "file_extension": ".py",
   "mimetype": "text/x-python",
   "name": "python",
   "nbconvert_exporter": "python",
   "pygments_lexer": "ipython2",
   "version": "2.7.12"
  }
 },
 "nbformat": 4,
 "nbformat_minor": 2
}
